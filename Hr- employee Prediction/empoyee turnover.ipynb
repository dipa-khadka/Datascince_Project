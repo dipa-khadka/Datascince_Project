{
 "cells": [
  {
   "cell_type": "code",
   "execution_count": 3,
   "metadata": {},
   "outputs": [],
   "source": [
    "# Importing necessary libraries\n",
    "import numpy as np\n",
    "import pandas as pd\n",
    "import seaborn as sns\n",
    "import matplotlib.pyplot as plt\n",
    "import warnings\n",
    "warnings.filterwarnings('ignore')"
   ]
  },
  {
   "cell_type": "code",
   "execution_count": 4,
   "metadata": {},
   "outputs": [
    {
     "data": {
      "text/html": [
       "<div>\n",
       "<style scoped>\n",
       "    .dataframe tbody tr th:only-of-type {\n",
       "        vertical-align: middle;\n",
       "    }\n",
       "\n",
       "    .dataframe tbody tr th {\n",
       "        vertical-align: top;\n",
       "    }\n",
       "\n",
       "    .dataframe thead th {\n",
       "        text-align: right;\n",
       "    }\n",
       "</style>\n",
       "<table border=\"1\" class=\"dataframe\">\n",
       "  <thead>\n",
       "    <tr style=\"text-align: right;\">\n",
       "      <th></th>\n",
       "      <th>satisfaction_level</th>\n",
       "      <th>last_evaluation</th>\n",
       "      <th>number_project</th>\n",
       "      <th>average_montly_hours</th>\n",
       "      <th>time_spend_company</th>\n",
       "      <th>Work_accident</th>\n",
       "      <th>left</th>\n",
       "      <th>promotion_last_5years</th>\n",
       "      <th>Department</th>\n",
       "      <th>salary</th>\n",
       "      <th>age</th>\n",
       "    </tr>\n",
       "  </thead>\n",
       "  <tbody>\n",
       "    <tr>\n",
       "      <th>0</th>\n",
       "      <td>0.24</td>\n",
       "      <td>0.79</td>\n",
       "      <td>2</td>\n",
       "      <td>175</td>\n",
       "      <td>5</td>\n",
       "      <td>0</td>\n",
       "      <td>0</td>\n",
       "      <td>0</td>\n",
       "      <td>IT</td>\n",
       "      <td>low</td>\n",
       "      <td>NaN</td>\n",
       "    </tr>\n",
       "    <tr>\n",
       "      <th>1</th>\n",
       "      <td>0.40</td>\n",
       "      <td>0.49</td>\n",
       "      <td>2</td>\n",
       "      <td>155</td>\n",
       "      <td>3</td>\n",
       "      <td>0</td>\n",
       "      <td>1</td>\n",
       "      <td>0</td>\n",
       "      <td>hr</td>\n",
       "      <td>medium</td>\n",
       "      <td>27.0</td>\n",
       "    </tr>\n",
       "    <tr>\n",
       "      <th>2</th>\n",
       "      <td>0.45</td>\n",
       "      <td>0.45</td>\n",
       "      <td>2</td>\n",
       "      <td>154</td>\n",
       "      <td>3</td>\n",
       "      <td>1</td>\n",
       "      <td>1</td>\n",
       "      <td>0</td>\n",
       "      <td>support</td>\n",
       "      <td>medium</td>\n",
       "      <td>NaN</td>\n",
       "    </tr>\n",
       "    <tr>\n",
       "      <th>3</th>\n",
       "      <td>0.46</td>\n",
       "      <td>0.73</td>\n",
       "      <td>6</td>\n",
       "      <td>256</td>\n",
       "      <td>4</td>\n",
       "      <td>0</td>\n",
       "      <td>0</td>\n",
       "      <td>0</td>\n",
       "      <td>product_mng</td>\n",
       "      <td>high</td>\n",
       "      <td>NaN</td>\n",
       "    </tr>\n",
       "    <tr>\n",
       "      <th>4</th>\n",
       "      <td>0.14</td>\n",
       "      <td>0.54</td>\n",
       "      <td>5</td>\n",
       "      <td>275</td>\n",
       "      <td>4</td>\n",
       "      <td>1</td>\n",
       "      <td>0</td>\n",
       "      <td>0</td>\n",
       "      <td>sales</td>\n",
       "      <td>high</td>\n",
       "      <td>NaN</td>\n",
       "    </tr>\n",
       "  </tbody>\n",
       "</table>\n",
       "</div>"
      ],
      "text/plain": [
       "   satisfaction_level  last_evaluation  number_project  average_montly_hours  \\\n",
       "0                0.24             0.79               2                   175   \n",
       "1                0.40             0.49               2                   155   \n",
       "2                0.45             0.45               2                   154   \n",
       "3                0.46             0.73               6                   256   \n",
       "4                0.14             0.54               5                   275   \n",
       "\n",
       "   time_spend_company  Work_accident left  promotion_last_5years   Department  \\\n",
       "0                   5              0    0                      0           IT   \n",
       "1                   3              0    1                      0           hr   \n",
       "2                   3              1    1                      0      support   \n",
       "3                   4              0    0                      0  product_mng   \n",
       "4                   4              1    0                      0        sales   \n",
       "\n",
       "   salary   age  \n",
       "0     low   NaN  \n",
       "1  medium  27.0  \n",
       "2  medium   NaN  \n",
       "3    high   NaN  \n",
       "4    high   NaN  "
      ]
     },
     "execution_count": 4,
     "metadata": {},
     "output_type": "execute_result"
    }
   ],
   "source": [
    "# data load/ csv file read\n",
    "df = pd.read_csv(\"D:\\Datascince_Project\\Hr- employee Prediction\\Data\\hr (3).csv\")\n",
    "df.head()"
   ]
  },
  {
   "cell_type": "code",
   "execution_count": 5,
   "metadata": {},
   "outputs": [
    {
     "data": {
      "text/html": [
       "<div>\n",
       "<style scoped>\n",
       "    .dataframe tbody tr th:only-of-type {\n",
       "        vertical-align: middle;\n",
       "    }\n",
       "\n",
       "    .dataframe tbody tr th {\n",
       "        vertical-align: top;\n",
       "    }\n",
       "\n",
       "    .dataframe thead th {\n",
       "        text-align: right;\n",
       "    }\n",
       "</style>\n",
       "<table border=\"1\" class=\"dataframe\">\n",
       "  <thead>\n",
       "    <tr style=\"text-align: right;\">\n",
       "      <th></th>\n",
       "      <th>satisfaction_level</th>\n",
       "      <th>last_evaluation</th>\n",
       "      <th>number_project</th>\n",
       "      <th>average_montly_hours</th>\n",
       "      <th>time_spend_company</th>\n",
       "      <th>Work_accident</th>\n",
       "      <th>left</th>\n",
       "      <th>promotion_last_5years</th>\n",
       "      <th>Department</th>\n",
       "      <th>salary</th>\n",
       "      <th>age</th>\n",
       "    </tr>\n",
       "  </thead>\n",
       "  <tbody>\n",
       "    <tr>\n",
       "      <th>14999</th>\n",
       "      <td>0.71</td>\n",
       "      <td>0.66</td>\n",
       "      <td>5</td>\n",
       "      <td>187</td>\n",
       "      <td>2</td>\n",
       "      <td>0</td>\n",
       "      <td>0</td>\n",
       "      <td>0</td>\n",
       "      <td>sales</td>\n",
       "      <td>medium</td>\n",
       "      <td>NaN</td>\n",
       "    </tr>\n",
       "    <tr>\n",
       "      <th>15000</th>\n",
       "      <td>0.75</td>\n",
       "      <td>0.84</td>\n",
       "      <td>3</td>\n",
       "      <td>145</td>\n",
       "      <td>3</td>\n",
       "      <td>1</td>\n",
       "      <td>0</td>\n",
       "      <td>0</td>\n",
       "      <td>support</td>\n",
       "      <td>low</td>\n",
       "      <td>NaN</td>\n",
       "    </tr>\n",
       "    <tr>\n",
       "      <th>15001</th>\n",
       "      <td>0.32</td>\n",
       "      <td>0.41</td>\n",
       "      <td>3</td>\n",
       "      <td>138</td>\n",
       "      <td>3</td>\n",
       "      <td>1</td>\n",
       "      <td>0</td>\n",
       "      <td>0</td>\n",
       "      <td>technical</td>\n",
       "      <td>medium</td>\n",
       "      <td>29.0</td>\n",
       "    </tr>\n",
       "    <tr>\n",
       "      <th>15002</th>\n",
       "      <td>0.62</td>\n",
       "      <td>0.58</td>\n",
       "      <td>3</td>\n",
       "      <td>148</td>\n",
       "      <td>2</td>\n",
       "      <td>1</td>\n",
       "      <td>0</td>\n",
       "      <td>0</td>\n",
       "      <td>technical</td>\n",
       "      <td>low</td>\n",
       "      <td>NaN</td>\n",
       "    </tr>\n",
       "    <tr>\n",
       "      <th>15003</th>\n",
       "      <td>0.81</td>\n",
       "      <td>0.94</td>\n",
       "      <td>3</td>\n",
       "      <td>225</td>\n",
       "      <td>4</td>\n",
       "      <td>0</td>\n",
       "      <td>0</td>\n",
       "      <td>0</td>\n",
       "      <td>hr</td>\n",
       "      <td>medium</td>\n",
       "      <td>NaN</td>\n",
       "    </tr>\n",
       "  </tbody>\n",
       "</table>\n",
       "</div>"
      ],
      "text/plain": [
       "       satisfaction_level  last_evaluation  number_project  \\\n",
       "14999                0.71             0.66               5   \n",
       "15000                0.75             0.84               3   \n",
       "15001                0.32             0.41               3   \n",
       "15002                0.62             0.58               3   \n",
       "15003                0.81             0.94               3   \n",
       "\n",
       "       average_montly_hours  time_spend_company  Work_accident left  \\\n",
       "14999                   187                   2              0    0   \n",
       "15000                   145                   3              1    0   \n",
       "15001                   138                   3              1    0   \n",
       "15002                   148                   2              1    0   \n",
       "15003                   225                   4              0    0   \n",
       "\n",
       "       promotion_last_5years Department  salary   age  \n",
       "14999                      0      sales  medium   NaN  \n",
       "15000                      0    support     low   NaN  \n",
       "15001                      0  technical  medium  29.0  \n",
       "15002                      0  technical     low   NaN  \n",
       "15003                      0         hr  medium   NaN  "
      ]
     },
     "execution_count": 5,
     "metadata": {},
     "output_type": "execute_result"
    }
   ],
   "source": [
    "df.tail()"
   ]
  },
  {
   "cell_type": "code",
   "execution_count": 6,
   "metadata": {},
   "outputs": [
    {
     "data": {
      "text/plain": [
       "Index(['satisfaction_level', 'last_evaluation', 'number_project',\n",
       "       'average_montly_hours', 'time_spend_company', 'Work_accident', 'left',\n",
       "       'promotion_last_5years', 'Department', 'salary', 'age'],\n",
       "      dtype='object')"
      ]
     },
     "execution_count": 6,
     "metadata": {},
     "output_type": "execute_result"
    }
   ],
   "source": [
    "df.columns"
   ]
  },
  {
   "cell_type": "markdown",
   "metadata": {},
   "source": [
    "**About Dataset :-**\n",
    "These columns likely represent various attributes or features of employees in a company. \n",
    "\n",
    "1. satisfaction_level: Employee satisfaction score.\n",
    "2. last_evaluation: Score from the employee's last performance review.\n",
    "3. number_project: Number of projects the employee is/was involved in.\n",
    "4. average_montly_hours: Average monthly hours worked by the employee.\n",
    "5. time_spend_company: Number of years the employee has been with the company.\n",
    "6. Work_accident: Indicator of whether the employee had a work accident (1 for yes, 0 for no).\n",
    "7. left: Indicator of whether the employee has left the company (1 for yes, 0 for no).\n",
    "8. promotion_last_5years: Indicator of whether the employee was promoted in the last 5 years (1 for yes, 0 for no).\n",
    "9. Department: Department or division where the employee works.\n",
    "10. salary: Salary level of the employee (low, medium, high).\n",
    "11. age: Age of the employee."
   ]
  },
  {
   "cell_type": "code",
   "execution_count": null,
   "metadata": {},
   "outputs": [],
   "source": []
  },
  {
   "cell_type": "markdown",
   "metadata": {},
   "source": [
    "#### **Data Cleaning**"
   ]
  },
  {
   "cell_type": "code",
   "execution_count": 7,
   "metadata": {},
   "outputs": [
    {
     "name": "stdout",
     "output_type": "stream",
     "text": [
      "<class 'pandas.core.frame.DataFrame'>\n",
      "RangeIndex: 15004 entries, 0 to 15003\n",
      "Data columns (total 11 columns):\n",
      " #   Column                 Non-Null Count  Dtype  \n",
      "---  ------                 --------------  -----  \n",
      " 0   satisfaction_level     15004 non-null  float64\n",
      " 1   last_evaluation        15004 non-null  float64\n",
      " 2   number_project         15004 non-null  int64  \n",
      " 3   average_montly_hours   15004 non-null  int64  \n",
      " 4   time_spend_company     15004 non-null  int64  \n",
      " 5   Work_accident          15004 non-null  int64  \n",
      " 6   left                   15004 non-null  object \n",
      " 7   promotion_last_5years  15004 non-null  int64  \n",
      " 8   Department             15004 non-null  object \n",
      " 9   salary                 14975 non-null  object \n",
      " 10  age                    3080 non-null   float64\n",
      "dtypes: float64(3), int64(5), object(3)\n",
      "memory usage: 1.3+ MB\n"
     ]
    }
   ],
   "source": [
    "df.info()"
   ]
  },
  {
   "cell_type": "markdown",
   "metadata": {},
   "source": [
    "Here all the columns has 15004 non-null values out of 15004 values except Salary and age columns which has 14975 and 3080 non-null values correpondingly."
   ]
  },
  {
   "cell_type": "code",
   "execution_count": 8,
   "metadata": {},
   "outputs": [
    {
     "data": {
      "text/plain": [
       "(15004, 11)"
      ]
     },
     "execution_count": 8,
     "metadata": {},
     "output_type": "execute_result"
    }
   ],
   "source": [
    "df.shape"
   ]
  },
  {
   "cell_type": "code",
   "execution_count": 9,
   "metadata": {},
   "outputs": [
    {
     "data": {
      "text/plain": [
       "satisfaction_level           0\n",
       "last_evaluation              0\n",
       "number_project               0\n",
       "average_montly_hours         0\n",
       "time_spend_company           0\n",
       "Work_accident                0\n",
       "left                         0\n",
       "promotion_last_5years        0\n",
       "Department                   0\n",
       "salary                      29\n",
       "age                      11924\n",
       "dtype: int64"
      ]
     },
     "execution_count": 9,
     "metadata": {},
     "output_type": "execute_result"
    }
   ],
   "source": [
    "df.isnull().sum()"
   ]
  },
  {
   "cell_type": "markdown",
   "metadata": {},
   "source": [
    "The column Salary has 29 null values  and age jas 11924 null values.\n",
    "\n",
    "\n",
    "Here columns has more than 75% values are null so we can just dop this column."
   ]
  },
  {
   "cell_type": "code",
   "execution_count": 10,
   "metadata": {},
   "outputs": [],
   "source": [
    "df.drop(columns=['age'],inplace=True)"
   ]
  },
  {
   "cell_type": "code",
   "execution_count": 11,
   "metadata": {},
   "outputs": [
    {
     "data": {
      "text/plain": [
       "Index(['satisfaction_level', 'last_evaluation', 'number_project',\n",
       "       'average_montly_hours', 'time_spend_company', 'Work_accident', 'left',\n",
       "       'promotion_last_5years', 'Department', 'salary'],\n",
       "      dtype='object')"
      ]
     },
     "execution_count": 11,
     "metadata": {},
     "output_type": "execute_result"
    }
   ],
   "source": [
    "df.columns"
   ]
  },
  {
   "cell_type": "code",
   "execution_count": 12,
   "metadata": {},
   "outputs": [
    {
     "data": {
      "text/plain": [
       "2998"
      ]
     },
     "execution_count": 12,
     "metadata": {},
     "output_type": "execute_result"
    }
   ],
   "source": [
    "df.duplicated().sum()\n"
   ]
  },
  {
   "cell_type": "code",
   "execution_count": 13,
   "metadata": {},
   "outputs": [],
   "source": [
    "# droping the duplicated values\n",
    "df.drop_duplicates(inplace=True)"
   ]
  },
  {
   "cell_type": "code",
   "execution_count": 14,
   "metadata": {},
   "outputs": [
    {
     "data": {
      "text/plain": [
       "(12006, 10)"
      ]
     },
     "execution_count": 14,
     "metadata": {},
     "output_type": "execute_result"
    }
   ],
   "source": [
    "df.shape"
   ]
  },
  {
   "cell_type": "code",
   "execution_count": 17,
   "metadata": {},
   "outputs": [
    {
     "name": "stdout",
     "output_type": "stream",
     "text": [
      "<class 'pandas.core.frame.DataFrame'>\n",
      "Index: 12006 entries, 0 to 15003\n",
      "Data columns (total 10 columns):\n",
      " #   Column                 Non-Null Count  Dtype  \n",
      "---  ------                 --------------  -----  \n",
      " 0   satisfaction_level     12006 non-null  float64\n",
      " 1   last_evaluation        12006 non-null  float64\n",
      " 2   number_project         12006 non-null  int64  \n",
      " 3   average_montly_hours   12006 non-null  int64  \n",
      " 4   time_spend_company     12006 non-null  int64  \n",
      " 5   Work_accident          12006 non-null  int64  \n",
      " 6   left                   12006 non-null  object \n",
      " 7   promotion_last_5years  12006 non-null  int64  \n",
      " 8   Department             12006 non-null  object \n",
      " 9   salary                 11977 non-null  object \n",
      "dtypes: float64(2), int64(5), object(3)\n",
      "memory usage: 1.0+ MB\n"
     ]
    }
   ],
   "source": [
    "df.info()"
   ]
  },
  {
   "cell_type": "code",
   "execution_count": 22,
   "metadata": {},
   "outputs": [
    {
     "data": {
      "text/plain": [
       "dtype('O')"
      ]
     },
     "execution_count": 22,
     "metadata": {},
     "output_type": "execute_result"
    }
   ],
   "source": [
    "df.dtypes['salary']"
   ]
  },
  {
   "cell_type": "code",
   "execution_count": 23,
   "metadata": {},
   "outputs": [
    {
     "data": {
      "text/plain": [
       "satisfaction_level       float64\n",
       "last_evaluation          float64\n",
       "number_project             int64\n",
       "average_montly_hours       int64\n",
       "time_spend_company         int64\n",
       "Work_accident              int64\n",
       "left                      object\n",
       "promotion_last_5years      int64\n",
       "Department                object\n",
       "salary                    object\n",
       "dtype: object"
      ]
     },
     "execution_count": 23,
     "metadata": {},
     "output_type": "execute_result"
    }
   ],
   "source": [
    "df.dtypes"
   ]
  },
  {
   "cell_type": "code",
   "execution_count": 24,
   "metadata": {},
   "outputs": [],
   "source": [
    "df['salary'].fillna('Unknown', inplace=True)"
   ]
  },
  {
   "cell_type": "code",
   "execution_count": 26,
   "metadata": {},
   "outputs": [
    {
     "name": "stdout",
     "output_type": "stream",
     "text": [
      "<class 'pandas.core.frame.DataFrame'>\n",
      "Index: 12006 entries, 0 to 15003\n",
      "Data columns (total 10 columns):\n",
      " #   Column                 Non-Null Count  Dtype  \n",
      "---  ------                 --------------  -----  \n",
      " 0   satisfaction_level     12006 non-null  float64\n",
      " 1   last_evaluation        12006 non-null  float64\n",
      " 2   number_project         12006 non-null  int64  \n",
      " 3   average_montly_hours   12006 non-null  int64  \n",
      " 4   time_spend_company     12006 non-null  int64  \n",
      " 5   Work_accident          12006 non-null  int64  \n",
      " 6   left                   12006 non-null  object \n",
      " 7   promotion_last_5years  12006 non-null  int64  \n",
      " 8   Department             12006 non-null  object \n",
      " 9   salary                 12006 non-null  object \n",
      "dtypes: float64(2), int64(5), object(3)\n",
      "memory usage: 1.0+ MB\n"
     ]
    }
   ],
   "source": [
    "# Fill missing values in the 'salary' column\n",
    "df.info()"
   ]
  },
  {
   "cell_type": "markdown",
   "metadata": {},
   "source": [
    "#### **Exploratory Data Analysis (EDA)**"
   ]
  },
  {
   "cell_type": "code",
   "execution_count": 27,
   "metadata": {},
   "outputs": [
    {
     "data": {
      "text/plain": [
       "array([175, 155, 154, 256, 275, 148, 141, 144, 185, 272, 171, 127, 149,\n",
       "       157, 277, 243, 267, 192, 238, 143, 191, 221, 137, 160, 179, 181,\n",
       "       249, 266, 284, 128, 276, 138, 205, 273, 231, 206, 214, 260, 145,\n",
       "       216, 223, 142, 139, 264, 167, 246, 187, 136, 121, 286, 232, 131,\n",
       "       213, 182, 204, 239, 224, 172, 263, 242, 235, 153, 147, 199, 289,\n",
       "        98, 200, 184, 124, 183, 274, 258, 241, 197, 132, 212, 201, 278,\n",
       "       211, 162, 307, 152, 247, 159, 133, 271, 173, 140, 229, 218, 165,\n",
       "       164, 244, 109, 253, 100, 262, 255, 122, 203, 261, 215, 245, 240,\n",
       "       169, 170, 193, 208, 254, 299, 111, 269, 117, 110, 294, 108, 180,\n",
       "       186, 234, 129, 287, 251, 248, 194, 156, 270, 237, 174, 222, 250,\n",
       "       228, 134, 112, 259, 290, 217, 257, 210, 225, 226, 301, 198, 209,\n",
       "       202, 115, 236, 151, 219, 268, 177, 252,  97, 161, 135, 190, 265,\n",
       "       220, 233, 227, 308, 120, 230, 146, 189, 196, 163, 158, 104, 285,\n",
       "       207, 176, 195, 298, 125, 168, 114, 302, 113, 178, 123, 188, 281,\n",
       "       166, 279, 107, 130, 296, 150, 310, 105, 305, 283, 297, 282, 280,\n",
       "       304, 102, 303, 101, 291, 292, 106, 103, 295, 306, 116, 119, 293,\n",
       "       300, 126,  96, 309, 118, 288,  99], dtype=int64)"
      ]
     },
     "execution_count": 27,
     "metadata": {},
     "output_type": "execute_result"
    }
   ],
   "source": [
    "# Monthly Hours\n",
    "df['average_montly_hours'].unique()"
   ]
  },
  {
   "cell_type": "code",
   "execution_count": 30,
   "metadata": {},
   "outputs": [
    {
     "data": {
      "text/plain": [
       "215"
      ]
     },
     "execution_count": 30,
     "metadata": {},
     "output_type": "execute_result"
    }
   ],
   "source": [
    "bins = len(df['average_montly_hours'].unique())\n",
    "bins"
   ]
  },
  {
   "cell_type": "code",
   "execution_count": 31,
   "metadata": {},
   "outputs": [
    {
     "data": {
      "image/png": "[encoded data removed]",
      "text/plain": [
       "<Figure size 600x600 with 1 Axes>"
      ]
     },
     "metadata": {},
     "output_type": "display_data"
    }
   ],
   "source": [
    "plt.figure(figsize=(6,6))\n",
    "sns.histplot(data = df, x = df['average_montly_hours'], kde=True)\n",
    "plt.show()"
   ]
  },
  {
   "cell_type": "code",
   "execution_count": 32,
   "metadata": {},
   "outputs": [
    {
     "data": {
      "text/plain": [
       "number_project\n",
       "4    3690\n",
       "3    3525\n",
       "5    2235\n",
       "2    1583\n",
       "6     828\n",
       "7     145\n",
       "Name: count, dtype: int64"
      ]
     },
     "execution_count": 32,
     "metadata": {},
     "output_type": "execute_result"
    }
   ],
   "source": [
    "#  Number of Projets that person has done\n",
    "df['number_project'].value_counts()"
   ]
  },
  {
   "cell_type": "code",
   "execution_count": 34,
   "metadata": {},
   "outputs": [
    {
     "data": {
      "image/png": "[encoded data removed]",
      "text/plain": [
       "<Figure size 600x600 with 1 Axes>"
      ]
     },
     "metadata": {},
     "output_type": "display_data"
    }
   ],
   "source": [
    "plt.figure(figsize=(6,6))\n",
    "sns.countplot(data=df, x=\"number_project\")\n",
    "plt.title(\"Number of Projects Undertaken Rate\")\n",
    "plt.tight_layout()\n",
    "plt.show()"
   ]
  },
  {
   "cell_type": "code",
   "execution_count": 36,
   "metadata": {},
   "outputs": [
    {
     "data": {
      "text/plain": [
       "promotion_last_5years\n",
       "0    11803\n",
       "1      203\n",
       "Name: count, dtype: int64"
      ]
     },
     "execution_count": 36,
     "metadata": {},
     "output_type": "execute_result"
    }
   ],
   "source": [
    "# Promotion made in the last 5 years\n",
    "df['promotion_last_5years'].value_counts()"
   ]
  },
  {
   "cell_type": "markdown",
   "metadata": {},
   "source": [
    "This shows that most people didn't get promoted in the last five years only 203 people got promoted in the last five years.\n",
    "\n",
    "* 1 => person got promoted \n",
    "* 0 => person was not promoted"
   ]
  },
  {
   "cell_type": "code",
   "execution_count": 39,
   "metadata": {},
   "outputs": [
    {
     "data": {
      "text/plain": [
       "[0, 1]"
      ]
     },
     "execution_count": 39,
     "metadata": {},
     "output_type": "execute_result"
    }
   ],
   "source": [
    "labels = df['promotion_last_5years'].value_counts().index.tolist()\n",
    "labels"
   ]
  },
  {
   "cell_type": "code",
   "execution_count": 42,
   "metadata": {},
   "outputs": [
    {
     "data": {
      "text/plain": [
       "([<matplotlib.patches.Wedge at 0x1aba9ccb2c0>,\n",
       "  <matplotlib.patches.Wedge at 0x1abaa0871d0>],\n",
       " [Text(-1.098448483042589, 0.058403168590715655, '0'),\n",
       "  Text(1.0984484799667815, -0.05840322644056107, '1')],\n",
       " [Text(-0.5991537180232303, 0.03185627377675399, '98.31%'),\n",
       "  Text(0.5991537163455172, -0.031856305331215126, '1.69%')])"
      ]
     },
     "execution_count": 42,
     "metadata": {},
     "output_type": "execute_result"
    },
    {
     "data": {
      "image/png": "[encoded data removed]",
      "text/plain": [
       "<Figure size 600x600 with 1 Axes>"
      ]
     },
     "metadata": {},
     "output_type": "display_data"
    }
   ],
   "source": [
    "plt.figure(figsize=(6,6))\n",
    "plt.pie(x=df['promotion_last_5years'].value_counts(),labels=labels, autopct='%1.2f%%')\n"
   ]
  },
  {
   "cell_type": "code",
   "execution_count": 45,
   "metadata": {},
   "outputs": [
    {
     "data": {
      "text/plain": [
       "['Not Promoted', 'Promoted']"
      ]
     },
     "execution_count": 45,
     "metadata": {},
     "output_type": "execute_result"
    }
   ],
   "source": [
    "labels = ['Promoted' if i==1 else \"Not Promoted\" for i in labels]\n",
    "labels"
   ]
  },
  {
   "cell_type": "code",
   "execution_count": 47,
   "metadata": {},
   "outputs": [
    {
     "data": {
      "image/png": "[encoded data removed]",
      "text/plain": [
       "<Figure size 600x600 with 1 Axes>"
      ]
     },
     "metadata": {},
     "output_type": "display_data"
    }
   ],
   "source": [
    "plt.figure(figsize=(6,6))\n",
    "plt.pie(x=df['promotion_last_5years'].value_counts(),labels=labels, autopct='%1.2f%%', explode = [0, 0.3])\n",
    "plt.title(\"Promotion In The Last Five Years\")\n",
    "plt.show()"
   ]
  },
  {
   "cell_type": "code",
   "execution_count": null,
   "metadata": {},
   "outputs": [],
   "source": [
    "# Work Accidents\n",
    "df['Work_accident']"
   ]
  }
 ],
 "metadata": {
  "kernelspec": {
   "display_name": "Python 3",
   "language": "python",
   "name": "python3"
  },
  "language_info": {
   "codemirror_mode": {
    "name": "ipython",
    "version": 3
   },
   "file_extension": ".py",
   "mimetype": "text/x-python",
   "name": "python",
   "nbconvert_exporter": "python",
   "pygments_lexer": "ipython3",
   "version": "3.12.0"
  }
 },
 "nbformat": 4,
 "nbformat_minor": 2
}
